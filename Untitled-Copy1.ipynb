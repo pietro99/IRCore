{
 "cells": [
  {
   "cell_type": "code",
   "execution_count": 1,
   "id": "e2d96db3",
   "metadata": {},
   "outputs": [
    {
     "name": "stderr",
     "output_type": "stream",
     "text": [
      "PyTerrier 0.8.0 has loaded Terrier 5.6 (built by craigmacdonald on 2021-09-17 13:27)\n",
      "\n"
     ]
    }
   ],
   "source": [
    "import pyterrier as pt\n",
    "import pandas as pd\n",
    "if not pt.started():\n",
    "  pt.init()"
   ]
  },
  {
   "cell_type": "code",
   "execution_count": 2,
   "id": "b59c13c6",
   "metadata": {},
   "outputs": [],
   "source": [
    "#get the msmarco passage dataset\n",
    "dataset = pt.get_dataset(\"msmarco_passage\")"
   ]
  },
  {
   "cell_type": "code",
   "execution_count": 7,
   "id": "05142cd3",
   "metadata": {},
   "outputs": [
    {
     "name": "stdout",
     "output_type": "stream",
     "text": [
      "13:30:02.843 [main] WARN org.terrier.applications.batchquerying.TRECQuery - trec.encoding is not set; resorting to platform default (windows-1252). Retrieval may be platform dependent. Recommend trec.encoding=UTF-8\n",
      "13:30:02.896 [main] WARN org.terrier.applications.batchquerying.TRECQuery - trec.encoding is not set; resorting to platform default (windows-1252). Retrieval may be platform dependent. Recommend trec.encoding=UTF-8\n"
     ]
    }
   ],
   "source": [
    "#retrieve\n",
    "corpus = dataset.get_corpus()\n",
    "index = dataset.get_index(\"terrier_stemmed\")\n",
    "topics = dataset.get_topics('test-2020')\n",
    "qrels = dataset.get_qrels('test-2020')\n",
    "train_topics = dataset.get_topics('train')\n",
    "train_qrels = dataset.get_qrels('train')\n"
   ]
  },
  {
   "cell_type": "code",
   "execution_count": 8,
   "id": "19ebdf0e",
   "metadata": {},
   "outputs": [
    {
     "data": {
      "text/html": [
       "<div>\n",
       "<style scoped>\n",
       "    .dataframe tbody tr th:only-of-type {\n",
       "        vertical-align: middle;\n",
       "    }\n",
       "\n",
       "    .dataframe tbody tr th {\n",
       "        vertical-align: top;\n",
       "    }\n",
       "\n",
       "    .dataframe thead th {\n",
       "        text-align: right;\n",
       "    }\n",
       "</style>\n",
       "<table border=\"1\" class=\"dataframe\">\n",
       "  <thead>\n",
       "    <tr style=\"text-align: right;\">\n",
       "      <th></th>\n",
       "      <th>qid</th>\n",
       "      <th>query</th>\n",
       "    </tr>\n",
       "  </thead>\n",
       "  <tbody>\n",
       "    <tr>\n",
       "      <th>0</th>\n",
       "      <td>1030303</td>\n",
       "      <td>who is aziz hashim</td>\n",
       "    </tr>\n",
       "    <tr>\n",
       "      <th>1</th>\n",
       "      <td>1037496</td>\n",
       "      <td>who is rep scalise</td>\n",
       "    </tr>\n",
       "    <tr>\n",
       "      <th>2</th>\n",
       "      <td>1043135</td>\n",
       "      <td>who killed nicholas ii of russia</td>\n",
       "    </tr>\n",
       "    <tr>\n",
       "      <th>3</th>\n",
       "      <td>1045109</td>\n",
       "      <td>who owns barnhart crane</td>\n",
       "    </tr>\n",
       "    <tr>\n",
       "      <th>4</th>\n",
       "      <td>1049519</td>\n",
       "      <td>who said no one can make you feel inferior</td>\n",
       "    </tr>\n",
       "    <tr>\n",
       "      <th>...</th>\n",
       "      <td>...</td>\n",
       "      <td>...</td>\n",
       "    </tr>\n",
       "    <tr>\n",
       "      <th>195</th>\n",
       "      <td>985594</td>\n",
       "      <td>where is kampuchea</td>\n",
       "    </tr>\n",
       "    <tr>\n",
       "      <th>196</th>\n",
       "      <td>99005</td>\n",
       "      <td>convert sq meter to sq inch</td>\n",
       "    </tr>\n",
       "    <tr>\n",
       "      <th>197</th>\n",
       "      <td>997622</td>\n",
       "      <td>where is the show shameless filmed</td>\n",
       "    </tr>\n",
       "    <tr>\n",
       "      <th>198</th>\n",
       "      <td>999466</td>\n",
       "      <td>where is velbert</td>\n",
       "    </tr>\n",
       "    <tr>\n",
       "      <th>199</th>\n",
       "      <td>132622</td>\n",
       "      <td>definition of attempted arson</td>\n",
       "    </tr>\n",
       "  </tbody>\n",
       "</table>\n",
       "<p>200 rows × 2 columns</p>\n",
       "</div>"
      ],
      "text/plain": [
       "         qid                                       query\n",
       "0    1030303                          who is aziz hashim\n",
       "1    1037496                          who is rep scalise\n",
       "2    1043135            who killed nicholas ii of russia\n",
       "3    1045109                     who owns barnhart crane\n",
       "4    1049519  who said no one can make you feel inferior\n",
       "..       ...                                         ...\n",
       "195   985594                          where is kampuchea\n",
       "196    99005                 convert sq meter to sq inch\n",
       "197   997622          where is the show shameless filmed\n",
       "198   999466                            where is velbert\n",
       "199   132622               definition of attempted arson\n",
       "\n",
       "[200 rows x 2 columns]"
      ]
     },
     "execution_count": 8,
     "metadata": {},
     "output_type": "execute_result"
    }
   ],
   "source": [
    "test_topics"
   ]
  },
  {
   "cell_type": "code",
   "execution_count": 9,
   "id": "87d3dedf",
   "metadata": {},
   "outputs": [],
   "source": [
    "bm25 = pt.BatchRetrieve(index, wmodel=\"BM25\")\n",
    "tf = pt.BatchRetrieve(index, wmodel=\"Tf\")\n",
    "pl2 = pt.BatchRetrieve(index, wmodel=\"PL2\")"
   ]
  },
  {
   "cell_type": "code",
   "execution_count": 15,
   "id": "b948040f",
   "metadata": {},
   "outputs": [
    {
     "name": "stderr",
     "output_type": "stream",
     "text": [
      "c:\\users\\pietro\\appdata\\local\\programs\\python\\python38\\lib\\site-packages\\pyterrier\\pipelines.py:108: UserWarning: 146 topic(s) not found in qrels. Scores for these topics are given as NaN and should not contribute to averages.\n",
      "  warn(f'{backfill_count} topic(s) not found in qrels. Scores for these topics are given as NaN and should not contribute to averages.')\n"
     ]
    }
   ],
   "source": [
    "exp1 = pt.Experiment([bm25], topics, qrels, eval_metrics=[\"map\"], save_dir=\"./results\",perquery=True, names=[\"BM25 test-2020\"])\n"
   ]
  },
  {
   "cell_type": "code",
   "execution_count": 16,
   "id": "2835c52e",
   "metadata": {},
   "outputs": [],
   "source": [
    "exp1.to_csv(\"./results/BM25_perquery\", index = False)"
   ]
  },
  {
   "cell_type": "code",
   "execution_count": 17,
   "id": "3ebc8716",
   "metadata": {},
   "outputs": [],
   "source": [
    "results =  pd.read_csv(\"./results/BM25_perquery\")"
   ]
  },
  {
   "cell_type": "code",
   "execution_count": 18,
   "id": "7799b86c",
   "metadata": {},
   "outputs": [
    {
     "data": {
      "text/html": [
       "<div>\n",
       "<style scoped>\n",
       "    .dataframe tbody tr th:only-of-type {\n",
       "        vertical-align: middle;\n",
       "    }\n",
       "\n",
       "    .dataframe tbody tr th {\n",
       "        vertical-align: top;\n",
       "    }\n",
       "\n",
       "    .dataframe thead th {\n",
       "        text-align: right;\n",
       "    }\n",
       "</style>\n",
       "<table border=\"1\" class=\"dataframe\">\n",
       "  <thead>\n",
       "    <tr style=\"text-align: right;\">\n",
       "      <th></th>\n",
       "      <th>name</th>\n",
       "      <th>qid</th>\n",
       "      <th>measure</th>\n",
       "      <th>value</th>\n",
       "    </tr>\n",
       "  </thead>\n",
       "  <tbody>\n",
       "    <tr>\n",
       "      <th>0</th>\n",
       "      <td>BM25 test-2020</td>\n",
       "      <td>1030303</td>\n",
       "      <td>map</td>\n",
       "      <td>0.732937</td>\n",
       "    </tr>\n",
       "    <tr>\n",
       "      <th>1</th>\n",
       "      <td>BM25 test-2020</td>\n",
       "      <td>1037496</td>\n",
       "      <td>map</td>\n",
       "      <td>0.509121</td>\n",
       "    </tr>\n",
       "    <tr>\n",
       "      <th>2</th>\n",
       "      <td>BM25 test-2020</td>\n",
       "      <td>1043135</td>\n",
       "      <td>map</td>\n",
       "      <td>0.251007</td>\n",
       "    </tr>\n",
       "    <tr>\n",
       "      <th>3</th>\n",
       "      <td>BM25 test-2020</td>\n",
       "      <td>1045109</td>\n",
       "      <td>map</td>\n",
       "      <td>NaN</td>\n",
       "    </tr>\n",
       "    <tr>\n",
       "      <th>4</th>\n",
       "      <td>BM25 test-2020</td>\n",
       "      <td>1049519</td>\n",
       "      <td>map</td>\n",
       "      <td>NaN</td>\n",
       "    </tr>\n",
       "    <tr>\n",
       "      <th>...</th>\n",
       "      <td>...</td>\n",
       "      <td>...</td>\n",
       "      <td>...</td>\n",
       "      <td>...</td>\n",
       "    </tr>\n",
       "    <tr>\n",
       "      <th>195</th>\n",
       "      <td>BM25 test-2020</td>\n",
       "      <td>978031</td>\n",
       "      <td>map</td>\n",
       "      <td>NaN</td>\n",
       "    </tr>\n",
       "    <tr>\n",
       "      <th>196</th>\n",
       "      <td>BM25 test-2020</td>\n",
       "      <td>985594</td>\n",
       "      <td>map</td>\n",
       "      <td>NaN</td>\n",
       "    </tr>\n",
       "    <tr>\n",
       "      <th>197</th>\n",
       "      <td>BM25 test-2020</td>\n",
       "      <td>99005</td>\n",
       "      <td>map</td>\n",
       "      <td>NaN</td>\n",
       "    </tr>\n",
       "    <tr>\n",
       "      <th>198</th>\n",
       "      <td>BM25 test-2020</td>\n",
       "      <td>997622</td>\n",
       "      <td>map</td>\n",
       "      <td>0.262550</td>\n",
       "    </tr>\n",
       "    <tr>\n",
       "      <th>199</th>\n",
       "      <td>BM25 test-2020</td>\n",
       "      <td>999466</td>\n",
       "      <td>map</td>\n",
       "      <td>NaN</td>\n",
       "    </tr>\n",
       "  </tbody>\n",
       "</table>\n",
       "<p>200 rows × 4 columns</p>\n",
       "</div>"
      ],
      "text/plain": [
       "               name      qid measure     value\n",
       "0    BM25 test-2020  1030303     map  0.732937\n",
       "1    BM25 test-2020  1037496     map  0.509121\n",
       "2    BM25 test-2020  1043135     map  0.251007\n",
       "3    BM25 test-2020  1045109     map       NaN\n",
       "4    BM25 test-2020  1049519     map       NaN\n",
       "..              ...      ...     ...       ...\n",
       "195  BM25 test-2020   978031     map       NaN\n",
       "196  BM25 test-2020   985594     map       NaN\n",
       "197  BM25 test-2020    99005     map       NaN\n",
       "198  BM25 test-2020   997622     map  0.262550\n",
       "199  BM25 test-2020   999466     map       NaN\n",
       "\n",
       "[200 rows x 4 columns]"
      ]
     },
     "execution_count": 18,
     "metadata": {},
     "output_type": "execute_result"
    }
   ],
   "source": [
    "results"
   ]
  },
  {
   "cell_type": "code",
   "execution_count": null,
   "id": "384fd836",
   "metadata": {},
   "outputs": [],
   "source": [
    "d = pt.io.read_results(\"./results/BM25 test-2020.res.gz\", format='trec', topics=None, dataset=None)"
   ]
  },
  {
   "cell_type": "code",
   "execution_count": null,
   "id": "60be0d5f",
   "metadata": {},
   "outputs": [],
   "source": [
    "from sklearn.ensemble import RandomForestRegressor\n",
    "rf = RandomForestRegressor(n_estimators=400)\n"
   ]
  },
  {
   "cell_type": "code",
   "execution_count": null,
   "id": "6ff65f8b",
   "metadata": {},
   "outputs": [],
   "source": [
    "pipeline = pt.FeaturesBatchRetrieve(index, controls = {\"wmodel\": \"BM25\"}, features=[\"SAMPLE\", \"WMODEL:TF_IDF\", \"WMODEL:PL2\"]) \n"
   ]
  },
  {
   "cell_type": "code",
   "execution_count": null,
   "id": "5fd919bc",
   "metadata": {},
   "outputs": [],
   "source": [
    "rf_pipe = pipeline >> pt.ltr.apply_learned_model(rf)\n"
   ]
  },
  {
   "cell_type": "code",
   "execution_count": null,
   "id": "ffc6e11f",
   "metadata": {},
   "outputs": [],
   "source": [
    "rf_pipe.fit(train_topics, train_qrels)"
   ]
  },
  {
   "cell_type": "code",
   "execution_count": null,
   "id": "c06f826b",
   "metadata": {},
   "outputs": [],
   "source": [
    "test_qrels"
   ]
  },
  {
   "cell_type": "code",
   "execution_count": null,
   "id": "1bf9cd68",
   "metadata": {},
   "outputs": [],
   "source": [
    "pt.Experiment([bm25, pipeline], test_topics, qrels, [\"map\"], names=[\"BM25 Baseline\", \"LTR Baseline\"])"
   ]
  }
 ],
 "metadata": {
  "kernelspec": {
   "display_name": "Python 3 (ipykernel)",
   "language": "python",
   "name": "python3"
  },
  "language_info": {
   "codemirror_mode": {
    "name": "ipython",
    "version": 3
   },
   "file_extension": ".py",
   "mimetype": "text/x-python",
   "name": "python",
   "nbconvert_exporter": "python",
   "pygments_lexer": "ipython3",
   "version": "3.8.8"
  }
 },
 "nbformat": 4,
 "nbformat_minor": 5
}
