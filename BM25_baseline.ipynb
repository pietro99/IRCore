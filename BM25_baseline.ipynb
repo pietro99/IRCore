{
 "cells": [
  {
   "cell_type": "code",
   "execution_count": 1,
   "id": "f493b087",
   "metadata": {},
   "outputs": [
    {
     "name": "stdout",
     "output_type": "stream",
     "text": [
      "terrier-assemblies 5.6 jar-with-dependencies not found, downloading to C:\\Users\\Pietro\\.pyterrier...\n",
      "100% [......................................................................] 103577345 / 103577345Done\n",
      "terrier-python-helper 0.0.6 jar not found, downloading to C:\\Users\\Pietro\\.pyterrier...\n",
      "100% [..............................................................................] 33517 / 33517Done\n"
     ]
    },
    {
     "name": "stderr",
     "output_type": "stream",
     "text": [
      "PyTerrier 0.8.0 has loaded Terrier 5.6 (built by craigmacdonald on 2021-09-17 13:27)\n",
      "\n"
     ]
    }
   ],
   "source": [
    "import pandas as pd\n",
    "import numpy as np\n",
    "import pyterrier as pt\n",
    "from sklearn.ensemble import RandomForestRegressor\n",
    "if not pt.started():\n",
    "  pt.init()"
   ]
  },
  {
   "cell_type": "code",
   "execution_count": 5,
   "id": "02e0ea27",
   "metadata": {},
   "outputs": [],
   "source": [
    "dataset = pt.get_dataset(\"msmarco_passage\")"
   ]
  },
  {
   "cell_type": "code",
   "execution_count": 8,
   "id": "eefb6118",
   "metadata": {},
   "outputs": [],
   "source": [
    "bm25 = pt.BatchRetrieve(dataset.get_index(\"terrier_stemmed\"), wmodel=\"BM25\", verbose=True)\n",
    "\n"
   ]
  },
  {
   "cell_type": "code",
   "execution_count": 10,
   "id": "178c5aea",
   "metadata": {},
   "outputs": [
    {
     "name": "stdout",
     "output_type": "stream",
     "text": [
      "15:39:47.202 [main] WARN org.terrier.applications.batchquerying.TRECQuery - trec.encoding is not set; resorting to platform default (windows-1252). Retrieval may be platform dependent. Recommend trec.encoding=UTF-8\r\n"
     ]
    },
    {
     "name": "stderr",
     "output_type": "stream",
     "text": [
      "BR(BM25): 100%|███████████████████████████████████████████████████████████████████████████████████████████████████████████████████████████| 200/200 [00:15<00:00, 12.82q/s]\n",
      "c:\\users\\pietro\\appdata\\local\\programs\\python\\python38\\lib\\site-packages\\pyterrier\\pipelines.py:108: UserWarning: 146 topic(s) not found in qrels. Scores for these topics are given as NaN and should not contribute to averages.\n",
      "  warn(f'{backfill_count} topic(s) not found in qrels. Scores for these topics are given as NaN and should not contribute to averages.')\n"
     ]
    }
   ],
   "source": [
    "bm25_exp = pt.Experiment([bm25],\n",
    "                                dataset.get_topics(\"test-2020\"),\n",
    "                                dataset.get_qrels(\"test-2020\"), [\"recip_rank\", \"ndcg_cut_10\",\"map\"],\n",
    "                                names=[\"BM25\"],\n",
    "                                perquery = True)"
   ]
  },
  {
   "cell_type": "code",
   "execution_count": 30,
   "id": "88167ffe",
   "metadata": {},
   "outputs": [
    {
     "name": "stderr",
     "output_type": "stream",
     "text": [
      "C:\\Users\\Pietro\\AppData\\Local\\Temp\\ipykernel_26612\\1852029953.py:1: FutureWarning: Dropping of nuisance columns in DataFrame reductions (with 'numeric_only=None') is deprecated; in a future version this will raise TypeError.  Select only valid columns before calling the reduction.\n",
      "  recip_rank = str(bm25_exp[bm25_exp[\"measure\"]==\"recip_rank\"].mean()[\"value\"])\n",
      "C:\\Users\\Pietro\\AppData\\Local\\Temp\\ipykernel_26612\\1852029953.py:2: FutureWarning: Dropping of nuisance columns in DataFrame reductions (with 'numeric_only=None') is deprecated; in a future version this will raise TypeError.  Select only valid columns before calling the reduction.\n",
      "  ndcg_cut_10 = str(bm25_exp[bm25_exp[\"measure\"]==\"ndcg_cut_10\"].mean()[\"value\"])\n",
      "C:\\Users\\Pietro\\AppData\\Local\\Temp\\ipykernel_26612\\1852029953.py:3: FutureWarning: Dropping of nuisance columns in DataFrame reductions (with 'numeric_only=None') is deprecated; in a future version this will raise TypeError.  Select only valid columns before calling the reduction.\n",
      "  _map = str(bm25_exp[bm25_exp[\"measure\"]==\"map\"].mean()[\"value\"])\n"
     ]
    }
   ],
   "source": [
    "recip_rank = str(bm25_exp[bm25_exp[\"measure\"]==\"recip_rank\"].mean()[\"value\"])\n",
    "ndcg_cut_10 = str(bm25_exp[bm25_exp[\"measure\"]==\"ndcg_cut_10\"].mean()[\"value\"])\n",
    "_map = str(bm25_exp[bm25_exp[\"measure\"]==\"map\"].mean()[\"value\"])"
   ]
  },
  {
   "cell_type": "code",
   "execution_count": 33,
   "id": "82cbcc64",
   "metadata": {},
   "outputs": [
    {
     "name": "stdout",
     "output_type": "stream",
     "text": [
      "results\n",
      "recip_rank: 0.8023589065255732\n",
      "map: 0.3587242366153089\n",
      "ndcg@10: 0.4936273783432554\n"
     ]
    }
   ],
   "source": [
    "print(f\"results\\nrecip_rank: {recip_rank}\\nmap: {_map}\\nndcg@10: {ndcg_cut_10}\")"
   ]
  },
  {
   "cell_type": "code",
   "execution_count": 36,
   "id": "3c2abc60",
   "metadata": {},
   "outputs": [],
   "source": [
    "bm25_exp.to_csv(\"./results/BM25_baseline.csv\")"
   ]
  },
  {
   "cell_type": "code",
   "execution_count": 40,
   "id": "692834dd",
   "metadata": {},
   "outputs": [],
   "source": [
    "import faiss\n"
   ]
  },
  {
   "cell_type": "code",
   "execution_count": 43,
   "id": "82aa4784",
   "metadata": {},
   "outputs": [
    {
     "data": {
      "text/plain": [
       "0"
      ]
     },
     "execution_count": 43,
     "metadata": {},
     "output_type": "execute_result"
    }
   ],
   "source": [
    "faiss.get_num_gpus()"
   ]
  },
  {
   "cell_type": "code",
   "execution_count": null,
   "id": "c25d7775",
   "metadata": {},
   "outputs": [],
   "source": []
  }
 ],
 "metadata": {
  "kernelspec": {
   "display_name": "Python 3 (ipykernel)",
   "language": "python",
   "name": "python3"
  },
  "language_info": {
   "codemirror_mode": {
    "name": "ipython",
    "version": 3
   },
   "file_extension": ".py",
   "mimetype": "text/x-python",
   "name": "python",
   "nbconvert_exporter": "python",
   "pygments_lexer": "ipython3",
   "version": "3.8.13"
  }
 },
 "nbformat": 4,
 "nbformat_minor": 5
}
