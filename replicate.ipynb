{
 "cells": [
  {
   "cell_type": "code",
   "execution_count": 158,
   "id": "ed797a4c",
   "metadata": {},
   "outputs": [],
   "source": [
    "import pandas as pd\n",
    "import numpy as np\n",
    "import pyterrier as pt\n",
    "from sklearn.ensemble import RandomForestRegressor\n",
    "if not pt.started():\n",
    "  pt.init()\n",
    "SUBSET_SIZE = 200\n"
   ]
  },
  {
   "cell_type": "code",
   "execution_count": null,
   "id": "17d93203",
   "metadata": {
    "scrolled": true
   },
   "outputs": [],
   "source": []
  },
  {
   "cell_type": "code",
   "execution_count": 159,
   "id": "4b45900c",
   "metadata": {},
   "outputs": [],
   "source": [
    "dataset = pt.get_dataset(\"msmarco_passage\")\n",
    "#corpus = dataset.get_corpus()"
   ]
  },
  {
   "cell_type": "code",
   "execution_count": 168,
   "id": "bd007d97",
   "metadata": {},
   "outputs": [
    {
     "ename": "ValueError",
     "evalue": "Must specify index variant for msmarco_passage. See http://data.terrier.org/msmarco_passage.dataset.html",
     "output_type": "error",
     "traceback": [
      "\u001b[1;31m---------------------------------------------------------------------------\u001b[0m",
      "\u001b[1;31mValueError\u001b[0m                                Traceback (most recent call last)",
      "Input \u001b[1;32mIn [168]\u001b[0m, in \u001b[0;36m<cell line: 1>\u001b[1;34m()\u001b[0m\n\u001b[1;32m----> 1\u001b[0m featuresBT \u001b[38;5;241m=\u001b[39m pt\u001b[38;5;241m.\u001b[39mFeaturesBatchRetrieve(dataset\u001b[38;5;241m.\u001b[39mget_index(),\n\u001b[0;32m      2\u001b[0m                                properties\u001b[38;5;241m=\u001b[39m{\u001b[38;5;124m\"\u001b[39m\u001b[38;5;124mtermpipelines\u001b[39m\u001b[38;5;124m\"\u001b[39m: \u001b[38;5;124m\"\u001b[39m\u001b[38;5;124m\"\u001b[39m},\n\u001b[0;32m      3\u001b[0m                                controls \u001b[38;5;241m=\u001b[39m {\u001b[38;5;124m\"\u001b[39m\u001b[38;5;124mwmodel\u001b[39m\u001b[38;5;124m\"\u001b[39m: \u001b[38;5;124m\"\u001b[39m\u001b[38;5;124mBM25\u001b[39m\u001b[38;5;124m\"\u001b[39m},\n\u001b[0;32m      4\u001b[0m                                verbose\u001b[38;5;241m=\u001b[39m\u001b[38;5;28;01mTrue\u001b[39;00m,\n\u001b[0;32m      5\u001b[0m                                features\u001b[38;5;241m=\u001b[39m[\u001b[38;5;124m\"\u001b[39m\u001b[38;5;124mWMODEL:Tf\u001b[39m\u001b[38;5;124m\"\u001b[39m, \u001b[38;5;124m\"\u001b[39m\u001b[38;5;124mWMODEL:PL2\u001b[39m\u001b[38;5;124m\"\u001b[39m, \u001b[38;5;124m\"\u001b[39m\u001b[38;5;124mWMODEL:BM25\u001b[39m\u001b[38;5;124m\"\u001b[39m, \u001b[38;5;124m\"\u001b[39m\u001b[38;5;124mWMODEL:DPH\u001b[39m\u001b[38;5;124m\"\u001b[39m, \u001b[38;5;124m\"\u001b[39m\u001b[38;5;124mWMODEL:TF_IDF\u001b[39m\u001b[38;5;124m\"\u001b[39m, \u001b[38;5;124m\"\u001b[39m\u001b[38;5;124mSAMPLE\u001b[39m\u001b[38;5;124m\"\u001b[39m]) \u001b[38;5;241m%\u001b[39m \u001b[38;5;241m100\u001b[39m\n\u001b[0;32m      6\u001b[0m bm25 \u001b[38;5;241m=\u001b[39m pt\u001b[38;5;241m.\u001b[39mBatchRetrieve(dataset\u001b[38;5;241m.\u001b[39mget_index(\u001b[38;5;124m\"\u001b[39m\u001b[38;5;124mterrier_stemmed\u001b[39m\u001b[38;5;124m\"\u001b[39m), wmodel\u001b[38;5;241m=\u001b[39m\u001b[38;5;124m\"\u001b[39m\u001b[38;5;124mBM25\u001b[39m\u001b[38;5;124m\"\u001b[39m)\n\u001b[0;32m      8\u001b[0m BaselineRFR \u001b[38;5;241m=\u001b[39m featuresBT \u001b[38;5;241m>>\u001b[39m pt\u001b[38;5;241m.\u001b[39mltr\u001b[38;5;241m.\u001b[39mapply_learned_model(RandomForestRegressor(n_estimators\u001b[38;5;241m=\u001b[39m\u001b[38;5;241m400\u001b[39m))\n",
      "File \u001b[1;32mc:\\users\\pietro\\appdata\\local\\programs\\python\\python38\\lib\\site-packages\\pyterrier\\datasets.py:372\u001b[0m, in \u001b[0;36mRemoteDataset.get_index\u001b[1;34m(self, variant, **kwargs)\u001b[0m\n\u001b[0;32m    370\u001b[0m \u001b[38;5;28;01mif\u001b[39;00m \u001b[38;5;28mself\u001b[39m\u001b[38;5;241m.\u001b[39mname \u001b[38;5;241m==\u001b[39m \u001b[38;5;124m\"\u001b[39m\u001b[38;5;124m50pct\u001b[39m\u001b[38;5;124m\"\u001b[39m \u001b[38;5;129;01mand\u001b[39;00m variant \u001b[38;5;129;01mis\u001b[39;00m \u001b[38;5;28;01mNone\u001b[39;00m:\n\u001b[0;32m    371\u001b[0m     variant\u001b[38;5;241m=\u001b[39m\u001b[38;5;124m\"\u001b[39m\u001b[38;5;124mex1\u001b[39m\u001b[38;5;124m\"\u001b[39m\n\u001b[1;32m--> 372\u001b[0m thedir \u001b[38;5;241m=\u001b[39m \u001b[38;5;28;43mself\u001b[39;49m\u001b[38;5;241;43m.\u001b[39;49m\u001b[43m_get_all_files\u001b[49m\u001b[43m(\u001b[49m\u001b[38;5;124;43m\"\u001b[39;49m\u001b[38;5;124;43mindex\u001b[39;49m\u001b[38;5;124;43m\"\u001b[39;49m\u001b[43m,\u001b[49m\u001b[43m \u001b[49m\u001b[43mvariant\u001b[49m\u001b[38;5;241;43m=\u001b[39;49m\u001b[43mvariant\u001b[49m\u001b[43m,\u001b[49m\u001b[43m \u001b[49m\u001b[38;5;241;43m*\u001b[39;49m\u001b[38;5;241;43m*\u001b[39;49m\u001b[43mkwargs\u001b[49m\u001b[43m)\u001b[49m\n\u001b[0;32m    373\u001b[0m \u001b[38;5;28;01mreturn\u001b[39;00m thedir\n",
      "File \u001b[1;32mc:\\users\\pietro\\appdata\\local\\programs\\python\\python38\\lib\\site-packages\\pyterrier\\datasets.py:252\u001b[0m, in \u001b[0;36mRemoteDataset._get_all_files\u001b[1;34m(self, component, variant, **kwargs)\u001b[0m\n\u001b[0;32m    249\u001b[0m         \u001b[38;5;28;01mreturn\u001b[39;00m localDir\n\u001b[0;32m    251\u001b[0m     \u001b[38;5;66;03m# call the function, and get the file list\u001b[39;00m\n\u001b[1;32m--> 252\u001b[0m     file_list \u001b[38;5;241m=\u001b[39m \u001b[43mlocation\u001b[49m\u001b[43m(\u001b[49m\u001b[38;5;28;43mself\u001b[39;49m\u001b[43m,\u001b[49m\u001b[43m \u001b[49m\u001b[43mcomponent\u001b[49m\u001b[43m,\u001b[49m\u001b[43m \u001b[49m\u001b[43mvariant\u001b[49m\u001b[43m,\u001b[49m\u001b[43m \u001b[49m\u001b[38;5;241;43m*\u001b[39;49m\u001b[38;5;241;43m*\u001b[39;49m\u001b[43mkwargs\u001b[49m\u001b[43m)\u001b[49m\n\u001b[0;32m    253\u001b[0m \u001b[38;5;28;01melse\u001b[39;00m:\n\u001b[0;32m    254\u001b[0m     file_list \u001b[38;5;241m=\u001b[39m \u001b[38;5;28mself\u001b[39m\u001b[38;5;241m.\u001b[39mlocations[component] \u001b[38;5;28;01mif\u001b[39;00m variant \u001b[38;5;129;01mis\u001b[39;00m \u001b[38;5;28;01mNone\u001b[39;00m \u001b[38;5;28;01melse\u001b[39;00m \u001b[38;5;28mself\u001b[39m\u001b[38;5;241m.\u001b[39mlocations[component][variant]\n",
      "File \u001b[1;32mc:\\users\\pietro\\appdata\\local\\programs\\python\\python38\\lib\\site-packages\\pyterrier\\datasets.py:540\u001b[0m, in \u001b[0;36m_datarepo_index\u001b[1;34m(self, component, variant, version, **kwargs)\u001b[0m\n\u001b[0;32m    538\u001b[0m \u001b[38;5;28;01mdef\u001b[39;00m \u001b[38;5;21m_datarepo_index\u001b[39m(\u001b[38;5;28mself\u001b[39m, component, variant\u001b[38;5;241m=\u001b[39m\u001b[38;5;28;01mNone\u001b[39;00m, version\u001b[38;5;241m=\u001b[39m\u001b[38;5;124m'\u001b[39m\u001b[38;5;124mlatest\u001b[39m\u001b[38;5;124m'\u001b[39m, \u001b[38;5;241m*\u001b[39m\u001b[38;5;241m*\u001b[39mkwargs):\n\u001b[0;32m    539\u001b[0m     \u001b[38;5;28;01mif\u001b[39;00m variant \u001b[38;5;129;01mis\u001b[39;00m \u001b[38;5;28;01mNone\u001b[39;00m:\n\u001b[1;32m--> 540\u001b[0m         \u001b[38;5;28;01mraise\u001b[39;00m \u001b[38;5;167;01mValueError\u001b[39;00m(\u001b[38;5;124mf\u001b[39m\u001b[38;5;124m\"\u001b[39m\u001b[38;5;124mMust specify index variant for \u001b[39m\u001b[38;5;132;01m{\u001b[39;00m\u001b[38;5;28mself\u001b[39m\u001b[38;5;241m.\u001b[39mname\u001b[38;5;132;01m}\u001b[39;00m\u001b[38;5;124m. See http://data.terrier.org/\u001b[39m\u001b[38;5;132;01m{\u001b[39;00m\u001b[38;5;28mself\u001b[39m\u001b[38;5;241m.\u001b[39mname\u001b[38;5;132;01m}\u001b[39;00m\u001b[38;5;124m.dataset.html\u001b[39m\u001b[38;5;124m\"\u001b[39m)\n\u001b[0;32m    541\u001b[0m     urlprefix\u001b[38;5;241m=\u001b[39m \u001b[38;5;124mf\u001b[39m\u001b[38;5;124m\"\u001b[39m\u001b[38;5;124mhttp://data.terrier.org/indices/\u001b[39m\u001b[38;5;132;01m{\u001b[39;00m\u001b[38;5;28mself\u001b[39m\u001b[38;5;241m.\u001b[39mname\u001b[38;5;132;01m}\u001b[39;00m\u001b[38;5;124m/\u001b[39m\u001b[38;5;132;01m{\u001b[39;00mvariant\u001b[38;5;132;01m}\u001b[39;00m\u001b[38;5;124m/\u001b[39m\u001b[38;5;132;01m{\u001b[39;00mversion\u001b[38;5;132;01m}\u001b[39;00m\u001b[38;5;124m/\u001b[39m\u001b[38;5;124m\"\u001b[39m\n\u001b[0;32m    542\u001b[0m     url \u001b[38;5;241m=\u001b[39m urlprefix \u001b[38;5;241m+\u001b[39m \u001b[38;5;124m\"\u001b[39m\u001b[38;5;124mfiles\u001b[39m\u001b[38;5;124m\"\u001b[39m\n",
      "\u001b[1;31mValueError\u001b[0m: Must specify index variant for msmarco_passage. See http://data.terrier.org/msmarco_passage.dataset.html"
     ]
    }
   ],
   "source": [
    "featuresBT = pt.FeaturesBatchRetrieve(dataset.get_index(\"terrier_stemmed\"),\n",
    "                               properties={\"termpipelines\": \"\"},\n",
    "                               controls = {\"wmodel\": \"BM25\"},\n",
    "                               verbose=True,\n",
    "                               features=[\"WMODEL:Tf\", \"WMODEL:PL2\", \"WMODEL:BM25\", \"WMODEL:DPH\", \"WMODEL:TF_IDF\", \"SAMPLE\"]) % 100\n",
    "bm25 = pt.BatchRetrieve(dataset.get_index(\"terrier_stemmed\"), wmodel=\"BM25\")\n",
    "\n",
    "BaselineLTR = featuresBT >> pt.ltr.apply_learned_model(RandomForestRegressor(n_estimators=400))\n"
   ]
  },
  {
   "cell_type": "code",
   "execution_count": 161,
   "id": "0c99cb42",
   "metadata": {},
   "outputs": [
    {
     "name": "stdout",
     "output_type": "stream",
     "text": [
      "11:17:49.735 [main] WARN org.terrier.applications.batchquerying.TRECQuery - trec.encoding is not set; resorting to platform default (windows-1252). Retrieval may be platform dependent. Recommend trec.encoding=UTF-8\r\n"
     ]
    },
    {
     "name": "stderr",
     "output_type": "stream",
     "text": [
      "FBR(BM25 and 6 features): 100%|█████████████████████████████████████████████████████████████████████████████████████████████████████████| 200/200 [1:15:29<00:00, 22.65s/q]\n"
     ]
    }
   ],
   "source": [
    "BaselineRFR.fit(dataset.get_topics(\"train\").sample(SUBSET_SIZE, random_state = 150), dataset.get_qrels(\"train\"))"
   ]
  },
  {
   "cell_type": "code",
   "execution_count": 162,
   "id": "2aec71af",
   "metadata": {},
   "outputs": [
    {
     "name": "stdout",
     "output_type": "stream",
     "text": [
      "12:33:56.937 [main] WARN org.terrier.applications.batchquerying.TRECQuery - trec.encoding is not set; resorting to platform default (windows-1252). Retrieval may be platform dependent. Recommend trec.encoding=UTF-8\r\n"
     ]
    },
    {
     "name": "stderr",
     "output_type": "stream",
     "text": [
      "FBR(BM25 and 6 features): 100%|█████████████████████████████████████████████████████████████████████████████████████████████████████████| 200/200 [1:22:44<00:00, 24.82s/q]\n",
      "c:\\users\\pietro\\appdata\\local\\programs\\python\\python38\\lib\\site-packages\\pyterrier\\pipelines.py:108: UserWarning: 146 topic(s) not found in qrels. Scores for these topics are given as NaN and should not contribute to averages.\n",
      "  warn(f'{backfill_count} topic(s) not found in qrels. Scores for these topics are given as NaN and should not contribute to averages.')\n"
     ]
    }
   ],
   "source": [
    "res = pt.Experiment([BaselineLTR],\n",
    "                                dataset.get_topics(\"test-2020\").sample(SUBSET_SIZE, random_state = 150),\n",
    "                                dataset.get_qrels(\"test-2020\"), [\"recip_rank\", \"ndcg_cut_10\",\"map\"],\n",
    "                                names=[\"RandomForestRegressor\"],\n",
    "                                perquery = True)"
   ]
  },
  {
   "cell_type": "code",
   "execution_count": 164,
   "id": "35579878",
   "metadata": {},
   "outputs": [],
   "source": [
    "allresultsLM.to_csv(\"./results/Random_forest.csv\")"
   ]
  },
  {
   "cell_type": "code",
   "execution_count": 165,
   "id": "aba29cbd",
   "metadata": {},
   "outputs": [
    {
     "name": "stderr",
     "output_type": "stream",
     "text": [
      "C:\\Users\\Pietro\\AppData\\Local\\Temp\\ipykernel_69536\\2117660121.py:1: FutureWarning: Dropping of nuisance columns in DataFrame reductions (with 'numeric_only=None') is deprecated; in a future version this will raise TypeError.  Select only valid columns before calling the reduction.\n",
      "  allresultsLM[allresultsLM[\"measure\"]==\"map\"].mean()\n"
     ]
    },
    {
     "data": {
      "text/plain": [
       "qid           inf\n",
       "value    0.231119\n",
       "dtype: float64"
      ]
     },
     "execution_count": 165,
     "metadata": {},
     "output_type": "execute_result"
    }
   ],
   "source": [
    "recip_rank = str(res[res[\"measure\"]==\"recip_rank\"].mean()[\"value\"])\n",
    "ndcg_cut_10 = str(res[res[\"measure\"]==\"ndcg_cut_10\"].mean()[\"value\"])\n",
    "_map = str(res[res[\"measure\"]==\"map\"].mean()[\"value\"])"
   ]
  },
  {
   "cell_type": "code",
   "execution_count": 167,
   "id": "0cb64c0b",
   "metadata": {},
   "outputs": [
    {
     "name": "stdout",
     "output_type": "stream",
     "text": [
      "results\n",
      "recip_rank: 0.6258431823202649\n",
      "map: 0.23111902041867727\n",
      "ndcg@10: 0.31968094530685437\n"
     ]
    }
   ],
   "source": [
    "print(f\"results\\nrecip_rank: {recip_rank}\\nmap: {_map}\\nndcg@10: {ndcg_cut_10}\")"
   ]
  },
  {
   "cell_type": "code",
   "execution_count": null,
   "id": "cc3ab4cc",
   "metadata": {},
   "outputs": [],
   "source": []
  }
 ],
 "metadata": {
  "kernelspec": {
   "display_name": "Python 3 (ipykernel)",
   "language": "python",
   "name": "python3"
  },
  "language_info": {
   "codemirror_mode": {
    "name": "ipython",
    "version": 3
   },
   "file_extension": ".py",
   "mimetype": "text/x-python",
   "name": "python",
   "nbconvert_exporter": "python",
   "pygments_lexer": "ipython3",
   "version": "3.10.3"
  }
 },
 "nbformat": 4,
 "nbformat_minor": 5
}
