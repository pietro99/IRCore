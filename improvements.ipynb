{
 "cells": [
  {
   "cell_type": "code",
   "execution_count": 4,
   "id": "cbe155d8",
   "metadata": {},
   "outputs": [
    {
     "name": "stderr",
     "output_type": "stream",
     "text": [
      "PyTerrier 0.8.0 has loaded Terrier 5.6 (built by craigmacdonald on 2021-09-17 13:27)\n",
      "\n"
     ]
    }
   ],
   "source": [
    "import pandas as pd\n",
    "import numpy as np\n",
    "import pyterrier as pt\n",
    "if not pt.started():\n",
    "  pt.init()\n"
   ]
  },
  {
   "cell_type": "code",
   "execution_count": 5,
   "id": "d88e8643",
   "metadata": {},
   "outputs": [],
   "source": [
    "dataset = pt.get_dataset(\"msmarco_passage\")"
   ]
  },
  {
   "cell_type": "code",
   "execution_count": 8,
   "id": "434e534e",
   "metadata": {},
   "outputs": [],
   "source": [
    "sdm = pt.rewrite.SequentialDependence()\n",
    "bm25 = pt.BatchRetrieve(dataset.get_index(\"terrier_stemmed\"), wmodel=\"BM25\")\n"
   ]
  },
  {
   "cell_type": "code",
   "execution_count": 2,
   "id": "a941642a",
   "metadata": {},
   "outputs": [
    {
     "ename": "NameError",
     "evalue": "name 'pt' is not defined",
     "output_type": "error",
     "traceback": [
      "\u001b[1;31m---------------------------------------------------------------------------\u001b[0m",
      "\u001b[1;31mNameError\u001b[0m                                 Traceback (most recent call last)",
      "Input \u001b[1;32mIn [2]\u001b[0m, in \u001b[0;36m<cell line: 1>\u001b[1;34m()\u001b[0m\n\u001b[1;32m----> 1\u001b[0m pipelineQE \u001b[38;5;241m=\u001b[39m pt\u001b[38;5;241m.\u001b[39mBatchRetrieve(dataset\u001b[38;5;241m.\u001b[39mget_index(), wmodel\u001b[38;5;241m=\u001b[39m\u001b[38;5;124m\"\u001b[39m\u001b[38;5;124mBM25\u001b[39m\u001b[38;5;124m\"\u001b[39m, controls\u001b[38;5;241m=\u001b[39m{\u001b[38;5;124m\"\u001b[39m\u001b[38;5;124mqemodel\u001b[39m\u001b[38;5;124m\"\u001b[39m : \u001b[38;5;124m\"\u001b[39m\u001b[38;5;124mBo1\u001b[39m\u001b[38;5;124m\"\u001b[39m, \u001b[38;5;124m\"\u001b[39m\u001b[38;5;124mqe\u001b[39m\u001b[38;5;124m\"\u001b[39m : \u001b[38;5;124m\"\u001b[39m\u001b[38;5;124mon\u001b[39m\u001b[38;5;124m\"\u001b[39m}, verbose \u001b[38;5;241m=\u001b[39m \u001b[38;5;28;01mTrue\u001b[39;00m)\n",
      "\u001b[1;31mNameError\u001b[0m: name 'pt' is not defined"
     ]
    }
   ],
   "source": [
    "pipelineQE = pt.BatchRetrieve(dataset.get_index(), wmodel=\"BM25\", controls={\"qemodel\" : \"Bo1\", \"qe\" : \"on\"}, verbose = True)\n"
   ]
  },
  {
   "cell_type": "code",
   "execution_count": 34,
   "id": "efe50fd3",
   "metadata": {},
   "outputs": [
    {
     "name": "stdout",
     "output_type": "stream",
     "text": [
      "16:28:12.845 [main] WARN org.terrier.applications.batchquerying.TRECQuery - trec.encoding is not set; resorting to platform default (windows-1252). Retrieval may be platform dependent. Recommend trec.encoding=UTF-8\r\n"
     ]
    },
    {
     "name": "stderr",
     "output_type": "stream",
     "text": [
      "BR(BM25): 100%|███████████████████████████████████████████████████████████████████████████████████████████████████████████████████████████| 200/200 [00:45<00:00,  4.44q/s]\n",
      "c:\\users\\pietro\\appdata\\local\\programs\\python\\python38\\lib\\site-packages\\pyterrier\\pipelines.py:108: UserWarning: 146 topic(s) not found in qrels. Scores for these topics are given as NaN and should not contribute to averages.\n",
      "  warn(f'{backfill_count} topic(s) not found in qrels. Scores for these topics are given as NaN and should not contribute to averages.')\n"
     ]
    }
   ],
   "source": [
    "improv_exp = pt.Experiment([pipelineQE],\n",
    "                                dataset.get_topics(\"test-2020\"),\n",
    "                                dataset.get_qrels(\"test-2020\"), [\"recip_rank\", \"ndcg_cut_10\",\"map\"],\n",
    "                                names=[\"improv\"],\n",
    "                                perquery = True)"
   ]
  },
  {
   "cell_type": "code",
   "execution_count": 37,
   "id": "77f3b408",
   "metadata": {},
   "outputs": [
    {
     "name": "stderr",
     "output_type": "stream",
     "text": [
      "C:\\Users\\Pietro\\AppData\\Local\\Temp\\ipykernel_65628\\1909748355.py:1: FutureWarning: Dropping of nuisance columns in DataFrame reductions (with 'numeric_only=None') is deprecated; in a future version this will raise TypeError.  Select only valid columns before calling the reduction.\n",
      "  recip_rank = str(improv_exp[improv_exp[\"measure\"]==\"recip_rank\"].mean()[\"value\"])\n",
      "C:\\Users\\Pietro\\AppData\\Local\\Temp\\ipykernel_65628\\1909748355.py:2: FutureWarning: Dropping of nuisance columns in DataFrame reductions (with 'numeric_only=None') is deprecated; in a future version this will raise TypeError.  Select only valid columns before calling the reduction.\n",
      "  ndcg_cut_10 = str(improv_exp[improv_exp[\"measure\"]==\"ndcg_cut_10\"].mean()[\"value\"])\n",
      "C:\\Users\\Pietro\\AppData\\Local\\Temp\\ipykernel_65628\\1909748355.py:3: FutureWarning: Dropping of nuisance columns in DataFrame reductions (with 'numeric_only=None') is deprecated; in a future version this will raise TypeError.  Select only valid columns before calling the reduction.\n",
      "  _map = str(improv_exp[improv_exp[\"measure\"]==\"map\"].mean()[\"value\"])\n"
     ]
    }
   ],
   "source": [
    "recip_rank = str(improv_exp[improv_exp[\"measure\"]==\"recip_rank\"].mean()[\"value\"])\n",
    "ndcg_cut_10 = str(improv_exp[improv_exp[\"measure\"]==\"ndcg_cut_10\"].mean()[\"value\"])\n",
    "_map = str(improv_exp[improv_exp[\"measure\"]==\"map\"].mean()[\"value\"])"
   ]
  },
  {
   "cell_type": "code",
   "execution_count": 38,
   "id": "6de3aee7",
   "metadata": {},
   "outputs": [
    {
     "name": "stdout",
     "output_type": "stream",
     "text": [
      "results\n",
      "recip_rank: 0.8099360002137779\n",
      "map: 0.39665176619915676\n",
      "ndcg@10: 0.4946648315235687\n"
     ]
    }
   ],
   "source": [
    "print(f\"results\\nrecip_rank: {recip_rank}\\nmap: {_map}\\nndcg@10: {ndcg_cut_10}\")"
   ]
  },
  {
   "cell_type": "code",
   "execution_count": 6,
   "id": "ab3c1793",
   "metadata": {},
   "outputs": [
    {
     "name": "stderr",
     "output_type": "stream",
     "text": [
      "c:\\users\\pietro\\appdata\\local\\programs\\python\\python38\\lib\\site-packages\\pyterrier\\datasets.py:278: UserWarning: Downloading index of > 2GB.\n",
      "  warn(\"Downloading index of > 2GB.\")\n"
     ]
    },
    {
     "name": "stdout",
     "output_type": "stream",
     "text": [
      "Downloading msmarco_passage index to C:\\Users\\Pietro\\.pyterrier\\corpora\\msmarco_passage\\index\\terrier_stemmed_docT5query\n"
     ]
    },
    {
     "name": "stderr",
     "output_type": "stream",
     "text": [
      "data.direct.bf: 100%|██████████████████████████████████████████████████████████████████████████████████████████████████████████████████| 925M/925M [02:11<00:00, 7.36MiB/s]\n",
      "data.document.fsarrayfile: 100%|███████████████████████████████████████████████████████████████████████████████████████████████████████| 177M/177M [00:27<00:00, 6.71MiB/s]\n",
      "data.inverted.bf: 100%|████████████████████████████████████████████████████████████████████████████████████████████████████████████████| 771M/771M [02:01<00:00, 6.64MiB/s]\n",
      "data.lexicon.fsomapfile: 100%|█████████████████████████████████████████████████████████████████████████████████████████████████████████| 201M/201M [00:30<00:00, 6.80MiB/s]\n",
      "data.lexicon.fsomaphash: 100%|███████████████████████████████████████████████████████████████████████████████████████████████████████████████| 0.99k/0.99k [00:00<?, ?iB/s]\n",
      "data.lexicon.fsomapid: 100%|█████████████████████████████████████████████████████████████████████████████████████████████████████████| 8.93M/8.93M [00:01<00:00, 8.09MiB/s]\n",
      "data.meta.idx: 100%|█████████████████████████████████████████████████████████████████████████████████████████████████████████████████| 67.5M/67.5M [00:08<00:00, 8.19MiB/s]\n",
      "data.meta.zdata: 100%|█████████████████████████████████████████████████████████████████████████████████████████████████████████████████| 193M/193M [00:24<00:00, 8.18MiB/s]\n",
      "data.properties: 100%|███████████████████████████████████████████████████████████████████████████████████████████████████████████████████████| 4.30k/4.30k [00:00<?, ?iB/s]\n",
      "md5sums: 100%|████████████████████████████████████████████████████████████████████████████████████████████████████████████████████████████| 522/522 [00:00<00:00, 533kiB/s]\n"
     ]
    }
   ],
   "source": [
    "bm25 = pt.BatchRetrieve(dataset.get_index(\"terrier_stemmed_docT5query\"), wmodel=\"BM25\")\n"
   ]
  },
  {
   "cell_type": "code",
   "execution_count": 7,
   "id": "0b283259",
   "metadata": {},
   "outputs": [
    {
     "name": "stdout",
     "output_type": "stream",
     "text": [
      "18:15:30.472 [main] WARN org.terrier.applications.batchquerying.TRECQuery - trec.encoding is not set; resorting to platform default (windows-1252). Retrieval may be platform dependent. Recommend trec.encoding=UTF-8\r\n"
     ]
    },
    {
     "name": "stderr",
     "output_type": "stream",
     "text": [
      "c:\\users\\pietro\\appdata\\local\\programs\\python\\python38\\lib\\site-packages\\pyterrier\\pipelines.py:108: UserWarning: 146 topic(s) not found in qrels. Scores for these topics are given as NaN and should not contribute to averages.\n",
      "  warn(f'{backfill_count} topic(s) not found in qrels. Scores for these topics are given as NaN and should not contribute to averages.')\n"
     ]
    }
   ],
   "source": [
    "bm25_exp = pt.Experiment([bm25],\n",
    "                                dataset.get_topics(\"test-2020\"),\n",
    "                                dataset.get_qrels(\"test-2020\"), [\"recip_rank\", \"ndcg_cut_10\",\"map\"],\n",
    "                                names=[\"BM25_2\"],\n",
    "                                perquery = True)"
   ]
  },
  {
   "cell_type": "code",
   "execution_count": 9,
   "id": "ae6f3091",
   "metadata": {},
   "outputs": [
    {
     "name": "stderr",
     "output_type": "stream",
     "text": [
      "C:\\Users\\Pietro\\AppData\\Local\\Temp\\ipykernel_65580\\1852029953.py:1: FutureWarning: Dropping of nuisance columns in DataFrame reductions (with 'numeric_only=None') is deprecated; in a future version this will raise TypeError.  Select only valid columns before calling the reduction.\n",
      "  recip_rank = str(bm25_exp[bm25_exp[\"measure\"]==\"recip_rank\"].mean()[\"value\"])\n",
      "C:\\Users\\Pietro\\AppData\\Local\\Temp\\ipykernel_65580\\1852029953.py:2: FutureWarning: Dropping of nuisance columns in DataFrame reductions (with 'numeric_only=None') is deprecated; in a future version this will raise TypeError.  Select only valid columns before calling the reduction.\n",
      "  ndcg_cut_10 = str(bm25_exp[bm25_exp[\"measure\"]==\"ndcg_cut_10\"].mean()[\"value\"])\n",
      "C:\\Users\\Pietro\\AppData\\Local\\Temp\\ipykernel_65580\\1852029953.py:3: FutureWarning: Dropping of nuisance columns in DataFrame reductions (with 'numeric_only=None') is deprecated; in a future version this will raise TypeError.  Select only valid columns before calling the reduction.\n",
      "  _map = str(bm25_exp[bm25_exp[\"measure\"]==\"map\"].mean()[\"value\"])\n"
     ]
    }
   ],
   "source": [
    "recip_rank = str(bm25_exp[bm25_exp[\"measure\"]==\"recip_rank\"].mean()[\"value\"])\n",
    "ndcg_cut_10 = str(bm25_exp[bm25_exp[\"measure\"]==\"ndcg_cut_10\"].mean()[\"value\"])\n",
    "_map = str(bm25_exp[bm25_exp[\"measure\"]==\"map\"].mean()[\"value\"])"
   ]
  },
  {
   "cell_type": "code",
   "execution_count": 10,
   "id": "c23fcdab",
   "metadata": {},
   "outputs": [
    {
     "name": "stdout",
     "output_type": "stream",
     "text": [
      "results\n",
      "recip_rank: 0.9012345679012346\n",
      "map: 0.4571829275294476\n",
      "ndcg@10: 0.6228081673736634\n"
     ]
    }
   ],
   "source": [
    "print(f\"results\\nrecip_rank: {recip_rank}\\nmap: {_map}\\nndcg@10: {ndcg_cut_10}\")"
   ]
  },
  {
   "cell_type": "code",
   "execution_count": 11,
   "id": "bc44a837",
   "metadata": {},
   "outputs": [],
   "source": [
    "bm25_exp.to_csv(\"./results/BM25_doc2query.csv\")"
   ]
  },
  {
   "cell_type": "code",
   "execution_count": null,
   "id": "c284cd79",
   "metadata": {},
   "outputs": [],
   "source": []
  }
 ],
 "metadata": {
  "kernelspec": {
   "display_name": "Python 3 (ipykernel)",
   "language": "python",
   "name": "python3"
  },
  "language_info": {
   "codemirror_mode": {
    "name": "ipython",
    "version": 3
   },
   "file_extension": ".py",
   "mimetype": "text/x-python",
   "name": "python",
   "nbconvert_exporter": "python",
   "pygments_lexer": "ipython3",
   "version": "3.10.3"
  }
 },
 "nbformat": 4,
 "nbformat_minor": 5
}
