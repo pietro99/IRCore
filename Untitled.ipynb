{
 "cells": [
  {
   "cell_type": "code",
   "execution_count": 2,
   "id": "8b85ab3b",
   "metadata": {},
   "outputs": [
    {
     "name": "stderr",
     "output_type": "stream",
     "text": [
      "PyTerrier 0.8.0 has loaded Terrier 5.6 (built by craigmacdonald on 2021-09-17 13:27)\n",
      "\n"
     ]
    }
   ],
   "source": [
    "import pyterrier as pt\n",
    "if not pt.started():\n",
    "  pt.init()"
   ]
  },
  {
   "cell_type": "code",
   "execution_count": 3,
   "id": "b3baef99",
   "metadata": {},
   "outputs": [],
   "source": [
    "#get the msmarco passage dataset\n",
    "dataset = pt.get_dataset(\"msmarco_passage\")"
   ]
  },
  {
   "cell_type": "code",
   "execution_count": 12,
   "id": "71379800",
   "metadata": {},
   "outputs": [
    {
     "name": "stdout",
     "output_type": "stream",
     "text": [
      "16:46:49.508 [main] WARN org.terrier.applications.batchquerying.TRECQuery - trec.encoding is not set; resorting to platform default (windows-1252). Retrieval may be platform dependent. Recommend trec.encoding=UTF-8\r\n"
     ]
    }
   ],
   "source": [
    "#retrieve\n",
    "corpus = dataset.get_corpus()\n",
    "index = dataset.get_index(\"terrier_stemmed\")\n",
    "topics = dataset.get_topics('train')\n",
    "qrels = dataset.get_qrels('train')"
   ]
  },
  {
   "cell_type": "code",
   "execution_count": 13,
   "id": "69a5b703",
   "metadata": {},
   "outputs": [
    {
     "data": {
      "text/html": [
       "<div>\n",
       "<style scoped>\n",
       "    .dataframe tbody tr th:only-of-type {\n",
       "        vertical-align: middle;\n",
       "    }\n",
       "\n",
       "    .dataframe tbody tr th {\n",
       "        vertical-align: top;\n",
       "    }\n",
       "\n",
       "    .dataframe thead th {\n",
       "        text-align: right;\n",
       "    }\n",
       "</style>\n",
       "<table border=\"1\" class=\"dataframe\">\n",
       "  <thead>\n",
       "    <tr style=\"text-align: right;\">\n",
       "      <th></th>\n",
       "      <th>qid</th>\n",
       "      <th>docno</th>\n",
       "      <th>label</th>\n",
       "    </tr>\n",
       "  </thead>\n",
       "  <tbody>\n",
       "    <tr>\n",
       "      <th>0</th>\n",
       "      <td>1185869</td>\n",
       "      <td>0</td>\n",
       "      <td>1</td>\n",
       "    </tr>\n",
       "    <tr>\n",
       "      <th>1</th>\n",
       "      <td>1185868</td>\n",
       "      <td>16</td>\n",
       "      <td>1</td>\n",
       "    </tr>\n",
       "    <tr>\n",
       "      <th>2</th>\n",
       "      <td>597651</td>\n",
       "      <td>49</td>\n",
       "      <td>1</td>\n",
       "    </tr>\n",
       "    <tr>\n",
       "      <th>3</th>\n",
       "      <td>403613</td>\n",
       "      <td>60</td>\n",
       "      <td>1</td>\n",
       "    </tr>\n",
       "    <tr>\n",
       "      <th>4</th>\n",
       "      <td>1183785</td>\n",
       "      <td>389</td>\n",
       "      <td>1</td>\n",
       "    </tr>\n",
       "    <tr>\n",
       "      <th>...</th>\n",
       "      <td>...</td>\n",
       "      <td>...</td>\n",
       "      <td>...</td>\n",
       "    </tr>\n",
       "    <tr>\n",
       "      <th>532756</th>\n",
       "      <td>19285</td>\n",
       "      <td>8841362</td>\n",
       "      <td>1</td>\n",
       "    </tr>\n",
       "    <tr>\n",
       "      <th>532757</th>\n",
       "      <td>558837</td>\n",
       "      <td>4989159</td>\n",
       "      <td>1</td>\n",
       "    </tr>\n",
       "    <tr>\n",
       "      <th>532758</th>\n",
       "      <td>559149</td>\n",
       "      <td>8841547</td>\n",
       "      <td>1</td>\n",
       "    </tr>\n",
       "    <tr>\n",
       "      <th>532759</th>\n",
       "      <td>706678</td>\n",
       "      <td>8841643</td>\n",
       "      <td>1</td>\n",
       "    </tr>\n",
       "    <tr>\n",
       "      <th>532760</th>\n",
       "      <td>405466</td>\n",
       "      <td>8841735</td>\n",
       "      <td>1</td>\n",
       "    </tr>\n",
       "  </tbody>\n",
       "</table>\n",
       "<p>532761 rows × 3 columns</p>\n",
       "</div>"
      ],
      "text/plain": [
       "            qid    docno  label\n",
       "0       1185869        0      1\n",
       "1       1185868       16      1\n",
       "2        597651       49      1\n",
       "3        403613       60      1\n",
       "4       1183785      389      1\n",
       "...         ...      ...    ...\n",
       "532756    19285  8841362      1\n",
       "532757   558837  4989159      1\n",
       "532758   559149  8841547      1\n",
       "532759   706678  8841643      1\n",
       "532760   405466  8841735      1\n",
       "\n",
       "[532761 rows x 3 columns]"
      ]
     },
     "execution_count": 13,
     "metadata": {},
     "output_type": "execute_result"
    }
   ],
   "source": [
    "qrels"
   ]
  },
  {
   "cell_type": "code",
   "execution_count": 14,
   "id": "36f7a3af",
   "metadata": {},
   "outputs": [],
   "source": [
    "bm25 = pt.BatchRetrieve(index, wmodel=\"BM25\")"
   ]
  },
  {
   "cell_type": "code",
   "execution_count": null,
   "id": "a7efbb37",
   "metadata": {},
   "outputs": [
    {
     "name": "stderr",
     "output_type": "stream",
     "text": [
      "c:\\users\\pietro\\appdata\\local\\programs\\python\\python38\\lib\\site-packages\\pyterrier\\batchretrieve.py:291: UserWarning: Skipping empty query for qid 52429\n",
      "  warn(\"Skipping empty query for qid %s\" % qid)\n"
     ]
    }
   ],
   "source": [
    "exp1 = pt.Experiment([bm25], topics, qrels, eval_metrics=[\"map\"], save_dir=\"./results\", names=[\"BM25 train\"])\n"
   ]
  },
  {
   "cell_type": "code",
   "execution_count": null,
   "id": "bad2f86e",
   "metadata": {},
   "outputs": [],
   "source": [
    "exp1"
   ]
  },
  {
   "cell_type": "code",
   "execution_count": null,
   "id": "5fc9e885",
   "metadata": {},
   "outputs": [],
   "source": [
    "d = pt.io.read_results(\"./results/BM25 test-2020.res.gz\", format='trec', topics=None, dataset=None, **kwargs)"
   ]
  },
  {
   "cell_type": "code",
   "execution_count": null,
   "id": "c3449c5d",
   "metadata": {},
   "outputs": [],
   "source": [
    "d"
   ]
  },
  {
   "cell_type": "code",
   "execution_count": null,
   "id": "c8677931",
   "metadata": {},
   "outputs": [],
   "source": []
  }
 ],
 "metadata": {
  "kernelspec": {
   "display_name": "Python 3 (ipykernel)",
   "language": "python",
   "name": "python3"
  },
  "language_info": {
   "codemirror_mode": {
    "name": "ipython",
    "version": 3
   },
   "file_extension": ".py",
   "mimetype": "text/x-python",
   "name": "python",
   "nbconvert_exporter": "python",
   "pygments_lexer": "ipython3",
   "version": "3.8.8"
  }
 },
 "nbformat": 4,
 "nbformat_minor": 5
}
