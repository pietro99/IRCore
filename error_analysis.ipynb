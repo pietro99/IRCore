{
 "cells": [
  {
   "cell_type": "code",
   "execution_count": 258,
   "id": "adf7e61e",
   "metadata": {},
   "outputs": [],
   "source": [
    "import pandas as pd\n",
    "import matplotlib.pyplot as plt\n",
    "import numpy as np\n",
    "import pandas as pd\n",
    "import pyterrier as pt\n",
    "if not pt.started():\n",
    "  pt.init()\n"
   ]
  },
  {
   "cell_type": "code",
   "execution_count": 263,
   "id": "b2f69912",
   "metadata": {},
   "outputs": [],
   "source": [
    "query_result = pd.read_csv(\"./results/BM25_baseline.csv\", index_col=0).sort_values(by=\"value\", ascending=False)\n",
    "res = pt.io.read_results(\"./results/BM25 Baseline.res.gz\")"
   ]
  },
  {
   "cell_type": "code",
   "execution_count": 260,
   "id": "f1e71558",
   "metadata": {},
   "outputs": [
    {
     "data": {
      "text/plain": [
       "43     1.0\n",
       "31     1.0\n",
       "34     1.0\n",
       "37     1.0\n",
       "139    1.0\n",
       "      ... \n",
       "582    NaN\n",
       "585    NaN\n",
       "588    NaN\n",
       "591    NaN\n",
       "594    NaN\n",
       "Name: value, Length: 200, dtype: float64"
      ]
     },
     "execution_count": 260,
     "metadata": {},
     "output_type": "execute_result"
    }
   ],
   "source": [
    "query_result[query_result[\"measure\"]==\"recip_rank\"][\"value\"]"
   ]
  },
  {
   "cell_type": "code",
   "execution_count": 262,
   "id": "2af883b2",
   "metadata": {},
   "outputs": [
    {
     "name": "stdout",
     "output_type": "stream",
     "text": [
      "17:11:05.328 [main] WARN org.terrier.applications.batchquerying.TRECQuery - trec.encoding is not set; resorting to platform default (windows-1252). Retrieval may be platform dependent. Recommend trec.encoding=UTF-8\n",
      "Number of documents: 8841823\n",
      "Number of terms: 1170682\n",
      "Number of postings: 215238456\n",
      "Number of fields: 1\n",
      "Number of tokens: 288759529\n",
      "Field names: [text]\n",
      "Positions:   false\n",
      "\n"
     ]
    }
   ],
   "source": [
    "dataset = pt.get_dataset(\"msmarco_passage\")\n",
    "indexrefe = dataset.get_index(\"terrier_stemmed\")\n",
    "index = pt.IndexFactory.of(indexrefe)\n",
    "queries =dataset.get_topics(\"train\")\n",
    "\n",
    "print(index.getCollectionStatistics().toString())"
   ]
  },
  {
   "cell_type": "code",
   "execution_count": 195,
   "id": "a2387e6e",
   "metadata": {},
   "outputs": [],
   "source": [
    "worst_query = []\n",
    "best_query = []\n",
    "for x in range(0,10):\n",
    "    best_query_id = query_result.dropna()[query_result.dropna()[\"measure\"]==\"map\"].iloc[x][\"qid\"]\n",
    "    worst_query_id = query_result.dropna()[query_result.dropna()[\"measure\"]==\"map\"].iloc[-(x+1)][\"qid\"]\n",
    "    best_query.append(queries[queries[\"qid\"]==str(best_query_id)][\"query\"].values[0])\n",
    "    worst_query.append(queries[queries[\"qid\"]==str(worst_query_id)][\"query\"].values[0])"
   ]
  },
  {
   "cell_type": "code",
   "execution_count": 249,
   "id": "d4b8a43e",
   "metadata": {},
   "outputs": [
    {
     "data": {
      "text/plain": [
       "name           BM25\n",
       "qid          135802\n",
       "measure         map\n",
       "value      0.839542\n",
       "Name: 75, dtype: object"
      ]
     },
     "execution_count": 249,
     "metadata": {},
     "output_type": "execute_result"
    }
   ],
   "source": [
    "query_result.dropna()[query_result.dropna()[\"measure\"]==\"map\"].iloc[1]"
   ]
  },
  {
   "cell_type": "code",
   "execution_count": 246,
   "id": "f00cbd77",
   "metadata": {},
   "outputs": [
    {
     "data": {
      "text/plain": [
       "['meaning of shebang',\n",
       " 'definition of laudable',\n",
       " 'what is a statutory deed',\n",
       " 'who is aziz hashim',\n",
       " 'define etruscans',\n",
       " 'define geon',\n",
       " 'what is reba mcentire s net worth',\n",
       " 'how does granulation tissue start',\n",
       " 'why did the ancient egyptians call their land kemet or black land',\n",
       " 'what carvedilol used for']"
      ]
     },
     "execution_count": 246,
     "metadata": {},
     "output_type": "execute_result"
    }
   ],
   "source": [
    "best_query"
   ]
  },
  {
   "cell_type": "code",
   "execution_count": 252,
   "id": "49f9ea95",
   "metadata": {},
   "outputs": [
    {
     "name": "stdout",
     "output_type": "stream",
     "text": [
      "define:0  bmt:230  medical:10  \n",
      "what:1334  are:18  best:297541  foods:1  to:1255  lower:145172  cholesterol:21427  \n",
      "who:482512  sings:2  monk:2085  theme:20041  song:54380  \n",
      "can:1640755  fever:33317  cause:1  miscarriage:0  early:0  pregnancy:1  \n",
      "are:18  naturalization:0  records:1  public:129376  information:6  \n",
      "what:1334  is:308  a:1309  nonconformity:0  earth:83127  science:0  \n",
      "dog:76307  day:29  afternoon:11968  meaning:4787  \n",
      "what:1334  the:60  best:297541  way:2  to:1255  get:4  clothes:1  white:133557  \n",
      "is:308  caffeine:0  an:1998  narcotic:0  \n",
      "how:1125  much:13  money:12  do:3  motivational:0  speakers:0  make:224891  \n"
     ]
    }
   ],
   "source": [
    "for query in worst_query:\n",
    "    for term in query.split(\" \"):\n",
    "        freq = index.getLexicon()[term].getDocumentFrequency()if term in index.getLexicon() else 0\n",
    "        print(f\"{term}:{freq} \", end = \" \")\n",
    "    print()"
   ]
  },
  {
   "cell_type": "code",
   "execution_count": null,
   "id": "a1cedad7",
   "metadata": {},
   "outputs": [],
   "source": []
  },
  {
   "cell_type": "code",
   "execution_count": 208,
   "id": "25ee29d3",
   "metadata": {},
   "outputs": [
    {
     "name": "stdout",
     "output_type": "stream",
     "text": [
      "meaning:4787   of:132   shebang:61   \n",
      "definition:0   of:132   laudable:0   \n",
      "what:1334   is:308   a:1309   statutory:0   deed:7948   \n",
      "who:482512   is:308   aziz:211   hashim:47   \n",
      "define:0   etruscans:0   \n",
      "define:0   geon:23   \n",
      "what:1334   is:308   reba:282   mcentire:0   s:0   net:52943   worth:52475   \n",
      "how:1125   does:11   granulation:0   tissue:2   start:287281   \n",
      "why:97   did:4   the:60   ancient:37456   egyptians:0   call:450809   their:9   land:93992   kemet:74   or:7430   black:93869   land:93992   \n",
      "what:1334   carvedilol:188   used:1   for:26   \n"
     ]
    }
   ],
   "source": [
    "for query in best_query:\n",
    "    for term in query.split(\" \"):\n",
    "        freq = index.getLexicon()[term].getDocumentFrequency()if term in index.getLexicon() else 0\n",
    "        print(f\"{term}:{freq}  \", end = \" \")\n",
    "    print()"
   ]
  },
  {
   "cell_type": "code",
   "execution_count": 236,
   "id": "d8a35e4b",
   "metadata": {},
   "outputs": [],
   "source": [
    "meta = index.getMetaIndex()\n",
    "inv = index.getInvertedIndex()\n",
    "lex = index.getLexicon()\n",
    "le = lex.getLexiconEntry( \"shebang\" )\n",
    "final = {}\n",
    "# the lexicon entry is also our pointer to access the inverted index posting list\n",
    "for posting in inv.getPostings(le): \n",
    "    docno = meta.getItem(\"docno\", posting.getId())\n",
    "    final[docno] =  posting.getFrequency()"
   ]
  },
  {
   "cell_type": "code",
   "execution_count": 239,
   "id": "55cd1890",
   "metadata": {},
   "outputs": [],
   "source": [
    "sorted_final = sorted(final, key=final.get, reverse=True)"
   ]
  },
  {
   "cell_type": "code",
   "execution_count": 242,
   "id": "2d30d598",
   "metadata": {},
   "outputs": [
    {
     "ename": "KeyError",
     "evalue": "'laudable'",
     "output_type": "error",
     "traceback": [
      "\u001b[1;31m---------------------------------------------------------------------------\u001b[0m",
      "\u001b[1;31mKeyError\u001b[0m                                  Traceback (most recent call last)",
      "Input \u001b[1;32mIn [242]\u001b[0m, in \u001b[0;36m<cell line: 1>\u001b[1;34m()\u001b[0m\n\u001b[1;32m----> 1\u001b[0m final[\u001b[38;5;124m\"\u001b[39m\u001b[38;5;124mlaudable\u001b[39m\u001b[38;5;124m\"\u001b[39m]\n",
      "\u001b[1;31mKeyError\u001b[0m: 'laudable'"
     ]
    }
   ],
   "source": [
    "final[\"laudable\"]"
   ]
  },
  {
   "cell_type": "code",
   "execution_count": 241,
   "id": "2b0a40c4",
   "metadata": {},
   "outputs": [
    {
     "data": {
      "text/plain": [
       "['8726954',\n",
       " '8726956',\n",
       " '8726961',\n",
       " '257426',\n",
       " '1192890',\n",
       " '1211118',\n",
       " '2044366',\n",
       " '2044368',\n",
       " '2044369',\n",
       " '2044372',\n",
       " '2574460',\n",
       " '8726957',\n",
       " '8726958',\n",
       " '103554',\n",
       " '149442',\n",
       " '186476',\n",
       " '555346',\n",
       " '555347',\n",
       " '690130',\n",
       " '1261897',\n",
       " '1733894',\n",
       " '2044364',\n",
       " '2044370',\n",
       " '2044371',\n",
       " '2253050',\n",
       " '3134960',\n",
       " '3158392',\n",
       " '3158395',\n",
       " '3217502',\n",
       " '3607071',\n",
       " '3852373',\n",
       " '3982451',\n",
       " '3993067',\n",
       " '4357490',\n",
       " '4488936',\n",
       " '4558913',\n",
       " '5066448',\n",
       " '5555468',\n",
       " '5632990',\n",
       " '5712334',\n",
       " '5728324',\n",
       " '5728333',\n",
       " '5753339',\n",
       " '6282405',\n",
       " '6731241',\n",
       " '6932352',\n",
       " '7075111',\n",
       " '7184106',\n",
       " '7674599',\n",
       " '8103042',\n",
       " '8172661',\n",
       " '8172662',\n",
       " '8202406',\n",
       " '8244505',\n",
       " '8304886',\n",
       " '8331765',\n",
       " '8726955',\n",
       " '8726959',\n",
       " '8726960',\n",
       " '8726962',\n",
       " '8726963']"
      ]
     },
     "execution_count": 241,
     "metadata": {},
     "output_type": "execute_result"
    }
   ],
   "source": [
    "sorted_final"
   ]
  },
  {
   "cell_type": "code",
   "execution_count": 186,
   "id": "82cd647b",
   "metadata": {},
   "outputs": [
    {
     "name": "stdout",
     "output_type": "stream",
     "text": [
      "meaning:4787\n",
      "of:132\n",
      "shebang:61\n"
     ]
    }
   ],
   "source": [
    "for term in worst_query[\"query\"].values[0].split(\" \"):\n",
    "    freq = index.getLexicon()[term].getDocumentFrequency()if term in index.getLexicon() else 0\n",
    "    print(f\"{term}:{freq}\")"
   ]
  },
  {
   "cell_type": "code",
   "execution_count": 36,
   "id": "c51fa098",
   "metadata": {},
   "outputs": [
    {
     "data": {
      "image/png": "[encoded data removed]",
      "text/plain": [
       "<Figure size 432x288 with 1 Axes>"
      ]
     },
     "metadata": {
      "needs_background": "light"
     },
     "output_type": "display_data"
    }
   ],
   "source": [
    "fig, ax = plt.subplots()\n",
    "plt.hist(query_result[query_result[\"measure\"]==\"map\"][\"value\"], bins=30)\n",
    "plt.xlim([0,1])\n",
    "plt.xticks(np.arange(0,1.1,0.1))\n",
    "ax.spines['right'].set_visible(False)\n",
    "ax.spines['top'].set_visible(False)\n",
    "plt.xlabel(\"map\")\n",
    "plt.ylabel(\"counts of queries in each bin\")\n",
    "plt.show()"
   ]
  },
  {
   "cell_type": "code",
   "execution_count": 37,
   "id": "dfad5ade",
   "metadata": {},
   "outputs": [
    {
     "data": {
      "image/png": "[encoded data removed]",
      "text/plain": [
       "<Figure size 432x288 with 1 Axes>"
      ]
     },
     "metadata": {
      "needs_background": "light"
     },
     "output_type": "display_data"
    }
   ],
   "source": [
    "fig, ax = plt.subplots()\n",
    "plt.hist(query_result[query_result[\"measure\"]==\"ndcg_cut_10\"][\"value\"], bins=30)\n",
    "plt.xlim([0,1])\n",
    "plt.xticks(np.arange(0,1.1,0.1))\n",
    "ax.spines['right'].set_visible(False)\n",
    "ax.spines['top'].set_visible(False)\n",
    "plt.xlabel(\"ndcg@10\")\n",
    "plt.ylabel(\"counts of queries in each bin\")\n",
    "plt.show()"
   ]
  },
  {
   "cell_type": "code",
   "execution_count": 38,
   "id": "0b02e47f",
   "metadata": {},
   "outputs": [
    {
     "data": {
      "image/png": "[encoded data removed]",
      "text/plain": [
       "<Figure size 432x288 with 1 Axes>"
      ]
     },
     "metadata": {
      "needs_background": "light"
     },
     "output_type": "display_data"
    }
   ],
   "source": [
    "fig, ax = plt.subplots()\n",
    "plt.hist(query_result[query_result[\"measure\"]==\"recip_rank\"][\"value\"], bins=30)\n",
    "plt.xlim([0,1])\n",
    "plt.xticks(np.arange(0,1.1,0.1))\n",
    "ax.spines['right'].set_visible(False)\n",
    "ax.spines['top'].set_visible(False)\n",
    "plt.xlabel(\"reciprocal rank\")\n",
    "plt.ylabel(\"counts of queries in each bin\")\n",
    "plt.show()"
   ]
  },
  {
   "cell_type": "code",
   "execution_count": 264,
   "id": "84c1ee99",
   "metadata": {},
   "outputs": [],
   "source": [
    "query_result_d2q = pd.read_csv(\"./results/BM25_doc2query.csv\", index_col=0).sort_values(by=\"value\", ascending=False)\n"
   ]
  },
  {
   "cell_type": "code",
   "execution_count": 294,
   "id": "0f94b709",
   "metadata": {},
   "outputs": [
    {
     "data": {
      "image/png": "[encoded data removed]",
      "text/plain": [
       "<Figure size 432x288 with 2 Axes>"
      ]
     },
     "metadata": {
      "needs_background": "light"
     },
     "output_type": "display_data"
    }
   ],
   "source": [
    "fig, ax = plt.subplots(1, 2, sharex='all', sharey='all')\n",
    "ax[0].hist(query_result_d2q[query_result_d2q[\"measure\"]==\"recip_rank\"][\"value\"], bins=30)\n",
    "plt.xticks(np.arange(0,1.1,0.1))\n",
    "\n",
    "ax[1].hist(query_result[query_result[\"measure\"]==\"recip_rank\"][\"value\"], bins=30)\n",
    "\n",
    "plt.xlabel(\"reciprocal rank\")\n",
    "plt.ylabel(\"counts of queries in each bin\")\n",
    "plt.show()"
   ]
  },
  {
   "cell_type": "code",
   "execution_count": 267,
   "id": "e90726e2",
   "metadata": {},
   "outputs": [
    {
     "data": {
      "image/png": "[encoded data removed]",
      "text/plain": [
       "<Figure size 432x288 with 1 Axes>"
      ]
     },
     "metadata": {
      "needs_background": "light"
     },
     "output_type": "display_data"
    }
   ],
   "source": [
    "fig, (ax1, ax2) = plt.subplots(1, 2, sharey=True)\n",
    "ax1.hist(query_result_d2q[query_result_d2q[\"measure\"]==\"map\"][\"value\"], bins=30)\n",
    "ax1.xlim([0,1])\n",
    "ax1.xticks(np.arange(0,1.1,0.1))\n",
    "ax1.spines['right'].set_visible(False)\n",
    "ax1.spines['top'].set_visible(False)\n",
    "ax1.xlabel(\"map\")\n",
    "ax1.ylabel(\"counts of queries in each bin\")\n",
    "ax1.show()"
   ]
  },
  {
   "cell_type": "code",
   "execution_count": null,
   "id": "3c9fa325",
   "metadata": {},
   "outputs": [],
   "source": [
    "f, (ax1, ax2) = plt.subplots(1, 2, sharey=True)\n"
   ]
  }
 ],
 "metadata": {
  "kernelspec": {
   "display_name": "Python 3 (ipykernel)",
   "language": "python",
   "name": "python3"
  },
  "language_info": {
   "codemirror_mode": {
    "name": "ipython",
    "version": 3
   },
   "file_extension": ".py",
   "mimetype": "text/x-python",
   "name": "python",
   "nbconvert_exporter": "python",
   "pygments_lexer": "ipython3",
   "version": "3.8.8"
  }
 },
 "nbformat": 4,
 "nbformat_minor": 5
}
